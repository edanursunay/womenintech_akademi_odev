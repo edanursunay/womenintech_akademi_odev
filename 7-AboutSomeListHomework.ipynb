{
 "cells": [
  {
   "cell_type": "markdown",
   "metadata": {},
   "source": [
    "1-Soru: 0 - 20 arasında karışık sırada sayıları tutan bir listenizin olduğunu düşünün. Bu liste içerisinde n tane sayı eksik. n ve eksik sayıları bulunuz.\n",
    "\n",
    "Örnek: my_list = [0, 7, 5, 8, 2] -> 0-10 arasında\n",
    "\n",
    "6 adet sayı eksiktir. Eksik olan sayılar [1, 3, 4, 6, 9, 10]"
   ]
  },
  {
   "cell_type": "code",
   "execution_count": 1,
   "metadata": {},
   "outputs": [
    {
     "name": "stdout",
     "output_type": "stream",
     "text": [
      "[1, 13, 19, 16, 20, 0, 15, 5, 6, 4, 17, 8, 10, 7, 9, 12, 18, 14, 11, 2, 3]\n",
      "[8, 3, 14, 18, 4, 20]\n",
      "[1, 13, 19, 16, 0, 15, 5, 6, 17, 10, 7, 9, 12, 11, 2]\n"
     ]
    }
   ],
   "source": [
    "#listeyi hazırlama\n",
    "import random\n",
    "\n",
    "my_list = [i for i in range(0, 21)]\n",
    "random.shuffle(my_list)\n",
    "\n",
    "remove_list = random.sample(my_list, 6)\n",
    "\n",
    "print(my_list)\n",
    "print(remove_list)\n",
    "\n",
    "for i in remove_list:\n",
    "    my_list.remove(i)\n",
    "\n",
    "print(my_list)"
   ]
  },
  {
   "cell_type": "code",
   "execution_count": 2,
   "metadata": {},
   "outputs": [
    {
     "name": "stdout",
     "output_type": "stream",
     "text": [
      "Listemiz içerisinde 6 tane sayı eksiktir. Eksik olan sayılar [3, 4, 8, 14, 18, 20]\n"
     ]
    }
   ],
   "source": [
    "my_list = [1, 13, 19, 16, 0, 15, 5, 6, 17, 10, 7, 9, 12, 11, 2]\n",
    "\n",
    "missing_list = []\n",
    "for i in range(0, 21):\n",
    "    if i not in my_list:\n",
    "        missing_list.append(i)\n",
    "\n",
    "print(f\"Listemiz içerisinde {len(missing_list)} tane sayı eksiktir. Eksik olan sayılar {missing_list}\")"
   ]
  },
  {
   "cell_type": "code",
   "execution_count": 4,
   "metadata": {},
   "outputs": [
    {
     "name": "stdout",
     "output_type": "stream",
     "text": [
      "Listemiz içerisinde 6 tane sayı eksiktir. Eksik olan sayılar {3, 4, 8, 14, 18, 20}\n"
     ]
    }
   ],
   "source": [
    "#2.çözüm\n",
    "my_list = [1, 13, 19, 16, 0, 15, 5, 6, 17, 10, 7, 9, 12, 11, 2]\n",
    "\n",
    "my_set = {i for i in range(0,21)}\n",
    "\n",
    "difference_set = my_set - set(my_list)\n",
    "print(f\"Listemiz içerisinde {len(difference_set)} tane sayı eksiktir. Eksik olan sayılar {difference_set}\")"
   ]
  },
  {
   "cell_type": "markdown",
   "metadata": {},
   "source": [
    "2-Soru: 0dan 100e kadar karışık sırada sayıları tutan bir listenizin olduğunu düşünün. Bu liste içerisinde bu defa n tane sayı yerine 1 adet sayı eksik. Eksik olan sayıyı bulunuz."
   ]
  },
  {
   "cell_type": "code",
   "execution_count": 5,
   "metadata": {},
   "outputs": [
    {
     "name": "stdout",
     "output_type": "stream",
     "text": [
      "[1, 89, 42, 75, 95, 91, 3, 19, 88, 46, 43, 49, 24, 21, 14, 99, 55, 81, 37, 39, 41, 38, 34, 16, 69, 30, 54, 73, 74, 87, 71, 50, 72, 20, 32, 63, 84, 53, 11, 86, 85, 28, 59, 57, 8, 96, 26, 68, 80, 98, 31, 35, 17, 9, 13, 29, 66, 47, 100, 2, 4, 15, 58, 56, 90, 0, 97, 51, 93, 70, 10, 45, 60, 33, 48, 6, 12, 77, 52, 18, 5, 76, 79, 22, 82, 65, 36, 61, 27, 92, 40, 94, 62, 7, 83, 67, 44, 78, 25, 64, 23]\n",
      "[39]\n",
      "[1, 89, 42, 75, 95, 91, 3, 19, 88, 46, 43, 49, 24, 21, 14, 99, 55, 81, 37, 41, 38, 34, 16, 69, 30, 54, 73, 74, 87, 71, 50, 72, 20, 32, 63, 84, 53, 11, 86, 85, 28, 59, 57, 8, 96, 26, 68, 80, 98, 31, 35, 17, 9, 13, 29, 66, 47, 100, 2, 4, 15, 58, 56, 90, 0, 97, 51, 93, 70, 10, 45, 60, 33, 48, 6, 12, 77, 52, 18, 5, 76, 79, 22, 82, 65, 36, 61, 27, 92, 40, 94, 62, 7, 83, 67, 44, 78, 25, 64, 23]\n"
     ]
    }
   ],
   "source": [
    "#listeyi hazırlama\n",
    "import random\n",
    "\n",
    "my_list = [i for i in range(0, 101)]\n",
    "random.shuffle(my_list)\n",
    "\n",
    "remove_list = random.sample(my_list, 1)\n",
    "\n",
    "print(my_list)\n",
    "print(remove_list)\n",
    "\n",
    "for i in remove_list:\n",
    "    my_list.remove(i)\n",
    "\n",
    "print(my_list)"
   ]
  },
  {
   "cell_type": "code",
   "execution_count": 6,
   "metadata": {},
   "outputs": [
    {
     "name": "stdout",
     "output_type": "stream",
     "text": [
      "Listemiz içerisinde 1 tane sayı eksiktir. Eksik olan sayı [39]\n"
     ]
    }
   ],
   "source": [
    "#1.çözüm\n",
    "my_list = [1, 89, 42, 75, 95, 91, 3, 19, 88, 46, 43, 49, 24, 21, 14, 99, 55, 81, 37, 41, 38, 34, 16, 69, 30, 54, 73, 74, 87, 71, 50, 72, 20, 32, 63, 84, 53, 11, 86, 85, 28, 59, 57, 8, 96, 26, 68, 80, 98, 31, 35, 17, 9, 13, 29, 66, 47, 100, 2, 4, 15, 58, 56, 90, 0, 97, 51, 93, 70, 10, 45, 60, 33, 48, 6, 12, 77, 52, 18, 5, 76, 79, 22, 82, 65, 36, 61, 27, 92, 40, 94, 62, 7, 83, 67, 44, 78, 25, 64, 23]\n",
    "\n",
    "missing_list = []\n",
    "for i in range(0, 101):\n",
    "    if i not in my_list:\n",
    "        missing_list.append(i)\n",
    "\n",
    "print(f\"Listemiz içerisinde {len(missing_list)} tane sayı eksiktir. Eksik olan sayı {missing_list}\")"
   ]
  },
  {
   "cell_type": "markdown",
   "metadata": {},
   "source": [
    "3-Soru: Bir liste üzerinde sıralama algoritmasını kullanarak listeyi sıralayınız."
   ]
  },
  {
   "cell_type": "code",
   "execution_count": 7,
   "metadata": {},
   "outputs": [
    {
     "name": "stdout",
     "output_type": "stream",
     "text": [
      "[1, 3, 5, 7, 29, 36, 45, 69]\n"
     ]
    }
   ],
   "source": [
    "my_list = [5, 36, 7, 45, 1, 29, 3, 69]\n",
    "\n",
    "def sorting_algorithm(my_list):\n",
    "    n = len(my_list)\n",
    "    for i in range(n - 1): \n",
    "        min_value = i\n",
    "\n",
    "        for j in range(i + 1, n):\n",
    "            if my_list[j] < my_list[min_value]:\n",
    "                min_value= j\n",
    "\n",
    "        if min_value != i:\n",
    "            temp = my_list[i]\n",
    "            my_list[i] = my_list[min_value]\n",
    "            my_list[min_value] = temp\n",
    "\n",
    "    return my_list\n",
    "\n",
    "print(sorting_algorithm(my_list))"
   ]
  },
  {
   "cell_type": "markdown",
   "metadata": {},
   "source": [
    "4-Soru: Fonksiyon bir integer array nums ve bir hedef target değişkeni almalı ve bizlere toplamı target olan indexleri dönmeli."
   ]
  },
  {
   "cell_type": "markdown",
   "metadata": {},
   "source": [
    "Kurallar: Aynı index’teki değeri iki defa kullanamayız.\n",
    "\n",
    "Örnek\n",
    "* Parametreler: nums = [2,7,11,15], target = 9\n",
    "* Dönen Değer: [0,1]\n",
    "* Açıklama: nums[0] ve nums[1]'deki değerlerin toplamı 9 yaptığı için çıktımız [0, 1] oldu."
   ]
  },
  {
   "cell_type": "code",
   "execution_count": 8,
   "metadata": {},
   "outputs": [
    {
     "data": {
      "text/plain": [
       "[0, 1]"
      ]
     },
     "execution_count": 8,
     "metadata": {},
     "output_type": "execute_result"
    }
   ],
   "source": [
    "def function(nums, target):\n",
    "    for j in range(len(nums)): \n",
    "        for i in range(len(nums)):\n",
    "            if j == i: \n",
    "                continue\n",
    "            elif nums[j] + nums[i] == target:\n",
    "                return [j, i]\n",
    "\n",
    "function([2,7,11,15], 9)"
   ]
  }
 ],
 "metadata": {
  "kernelspec": {
   "display_name": "Python 3.10.1 64-bit",
   "language": "python",
   "name": "python3"
  },
  "language_info": {
   "codemirror_mode": {
    "name": "ipython",
    "version": 3
   },
   "file_extension": ".py",
   "mimetype": "text/x-python",
   "name": "python",
   "nbconvert_exporter": "python",
   "pygments_lexer": "ipython3",
   "version": "3.10.1"
  },
  "orig_nbformat": 4,
  "vscode": {
   "interpreter": {
    "hash": "8728e009dc4827959d0cd0ea26bc6c3b22d334d9e49d904647d9110e18c0d7ef"
   }
  }
 },
 "nbformat": 4,
 "nbformat_minor": 2
}
