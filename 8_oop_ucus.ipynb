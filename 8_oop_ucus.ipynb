{
 "cells": [
  {
   "cell_type": "markdown",
   "metadata": {},
   "source": [
    "Uçuşların ve pilotların yönetimi için bir sistem tasarlayın.\n",
    "\n",
    "* Hava yolu şirketleri uçuşları gerçekleştirir. Her hava yolunun bir kimliği vardır.\n",
    "* Hava yolu şirketi, farklı tipteki uçaklara sahiptir.\n",
    "* Uçaklar çalışır veya onarım durumunda olabilir.\n",
    "* Her uçuşun benzersiz kimliği, kalkacağı ve ineceği havaalanı, kalkış ve iniş saatleri vardır.\n",
    "* Her uçuşun bir pilotu ve yardımcı pilotu vardır ve uçağı kullanırlar.\n",
    "* Havaalanlarının benzersiz kimlikleri ve isimleri vardır.\n",
    "* Hava yolu şirketlerinin pilotları vardır ve her pilotun bir deneyim seviyesi mevcuttur.\n",
    "* Bir uçak tipi, belirli sayıda pilota ihtiyaç duyabilir."
   ]
  },
  {
   "cell_type": "code",
   "execution_count": 1,
   "metadata": {},
   "outputs": [],
   "source": [
    "class Havayolu_sirketleri:\n",
    "    def __init__(self, isim, kimlik):\n",
    "        self.isim = isim\n",
    "        self.kimlik = kimlik"
   ]
  },
  {
   "cell_type": "code",
   "execution_count": 2,
   "metadata": {},
   "outputs": [],
   "source": [
    "class sirket(Havayolu_sirketleri):\n",
    "    def __init__(self, ucus, pilot, ucak):\n",
    "       self.ucus = ucus\n",
    "       self.pilot = pilot\n",
    "       self.ucak = ucak"
   ]
  },
  {
   "cell_type": "code",
   "execution_count": 3,
   "metadata": {},
   "outputs": [],
   "source": [
    "class ucak(Havayolu_sirketleri):\n",
    "    def __init__(self, ucak_durumu, ucak_tipi):\n",
    "        self.ucak_durumu = ucak_durumu\n",
    "        self. ucak_tipi = ucak_tipi"
   ]
  },
  {
   "cell_type": "code",
   "execution_count": 4,
   "metadata": {},
   "outputs": [],
   "source": [
    "class ucak_durumu(ucak):\n",
    "    def __init__(self, onarım_gerekli, calısır_durumda):\n",
    "        self.onarım_gerekli = onarım_gerekli\n",
    "        self.calısır_durumda = calısır_durumda"
   ]
  },
  {
   "cell_type": "code",
   "execution_count": 5,
   "metadata": {},
   "outputs": [],
   "source": [
    "class ucus(Havayolu_sirketleri):\n",
    "    def __init__(self, kimlik, kalkacagi_havaalani, inecegi_havaalani, kalkis_saati, inis_saati):\n",
    "        self.kimlik = kimlik\n",
    "        self.alkacagı_havaalani = kalkacagi_havaalani\n",
    "        self.inecegi_havaalani = inecegi_havaalani\n",
    "        self.kalkis_saati = kalkis_saati\n",
    "        self.inis_saati = inis_saati\n"
   ]
  },
  {
   "cell_type": "code",
   "execution_count": 6,
   "metadata": {},
   "outputs": [],
   "source": [
    "class pilot(sirket):\n",
    "    def __init__(self, deneyim_durumu):\n",
    "        self.deneyim_durumu = deneyim_durumu"
   ]
  },
  {
   "cell_type": "code",
   "execution_count": 7,
   "metadata": {},
   "outputs": [
    {
     "name": "stdout",
     "output_type": "stream",
     "text": [
      "sirket<__main__.sirket object at 0x000001C7924048E0>\n"
     ]
    }
   ],
   "source": [
    "THY = Havayolu_sirketleri(\"Thy\", 23053) \n",
    "Thy = sirket(\"Istanbul ucusu\", \"Edanur sunay\" , \"THY 3265 Kartal\")\n",
    "print(f\"sirket{Thy}\")\n"
   ]
  }
 ],
 "metadata": {
  "kernelspec": {
   "display_name": "Python 3.10.1 64-bit",
   "language": "python",
   "name": "python3"
  },
  "language_info": {
   "codemirror_mode": {
    "name": "ipython",
    "version": 3
   },
   "file_extension": ".py",
   "mimetype": "text/x-python",
   "name": "python",
   "nbconvert_exporter": "python",
   "pygments_lexer": "ipython3",
   "version": "3.10.1"
  },
  "orig_nbformat": 4,
  "vscode": {
   "interpreter": {
    "hash": "8728e009dc4827959d0cd0ea26bc6c3b22d334d9e49d904647d9110e18c0d7ef"
   }
  }
 },
 "nbformat": 4,
 "nbformat_minor": 2
}
